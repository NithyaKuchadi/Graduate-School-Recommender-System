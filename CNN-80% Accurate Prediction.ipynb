{
 "cells": [
  {
   "cell_type": "code",
   "execution_count": 91,
   "metadata": {},
   "outputs": [],
   "source": [
    "import pandas\n",
    "import math\n",
    "from sklearn import neighbors, datasets\n",
    "from numpy.random import permutation\n",
    "import matplotlib.pyplot as plt\n",
    "import numpy as np\n",
    "from sklearn import svm\n",
    "from sklearn.ensemble import RandomForestClassifier\n",
    "from sklearn.metrics import precision_recall_fscore_support"
   ]
  },
  {
   "cell_type": "code",
   "execution_count": 92,
   "metadata": {},
   "outputs": [],
   "source": [
    "data = pandas.read_csv('csv/processed_data.csv')"
   ]
  },
  {
   "cell_type": "code",
   "execution_count": 93,
   "metadata": {},
   "outputs": [
    {
     "name": "stdout",
     "output_type": "stream",
     "text": [
      "1054\n",
      "      index  toeflScore  greV  greQ   greA    cgpa  cgpaScale  \\\n",
      "1940   4290         101   490   770    3.5  0.6920        100   \n",
      "2737   5251         104   580   770    3.5  0.7730         10   \n",
      "3817   8333          99   520   770    3.0  0.8890         10   \n",
      "4849   9810         102   480   770    4.0  0.7300        100   \n",
      "239     384         102   520   790    3.5  0.6900         10   \n",
      "1900   4244          94   460   720    3.0  0.7600        100   \n",
      "637    1522         116   620   800    4.5  0.7890         10   \n",
      "2482   4948          97   370   740    3.0  0.8140        100   \n",
      "3329   6816         110   520   800    4.0  0.7320         10   \n",
      "2225   4632         105   490   710    3.0  0.7340        100   \n",
      "2117   4507         105   520   770  305.0  0.8000        100   \n",
      "2078   4456          88   330   750    3.0  0.8800         10   \n",
      "4087   8917          97   500   800    3.0  0.6740        100   \n",
      "860    2698         102   420   800    4.0  0.7774        100   \n",
      "2540   5014         113   430   800    4.0  0.8300         10   \n",
      "303     461         104   530   800    3.5  0.7100        100   \n",
      "2628   5125          90   520   760    3.5  0.7500        100   \n",
      "1355   3579         115   530   750    4.0  0.7160        100   \n",
      "915    2760         114   550   770    4.0  0.8290         10   \n",
      "3015   5569          99   380   760    3.0  0.7600        100   \n",
      "4644   9573         117   340   670    4.0  0.8000         10   \n",
      "4641   9570         104   350   790    3.0  0.9170         10   \n",
      "1183   3371          98   380   780    3.5  0.7920        100   \n",
      "4402   9287         300   660   730    5.0  0.6827        100   \n",
      "2816   5337         103   520   750    4.0  0.7900        100   \n",
      "5210  10226          97   410   800    3.0  0.9130         10   \n",
      "5133  10137         112   620   800    4.0  0.8450         10   \n",
      "4407   9294          90   400   750    2.5  0.8250          4   \n",
      "1434   3681         110   710   730    3.0  0.6000         10   \n",
      "4580   9497         108   550   780    4.0  0.8320         10   \n",
      "...     ...         ...   ...   ...    ...     ...        ...   \n",
      "1443   3691         110   670   800    4.0  0.8700         10   \n",
      "3116   5690         104   530   710    3.0  0.7200        100   \n",
      "3541   7988          85   440   730    3.5  0.6800        100   \n",
      "2601   5089         112   520   800    4.0  0.8000        100   \n",
      "1679   3970         101   420   750    4.0  0.7000        100   \n",
      "4846   9807          93   540   790    3.5  0.6300        100   \n",
      "4543   9452         112   550   800    4.5  0.7100        100   \n",
      "177     283          84   400   700    2.5  0.8240         10   \n",
      "2218   4625         109   620   740    3.0  0.8500         10   \n",
      "4298   9162         108   520   780    3.0  0.7800        100   \n",
      "2593   5078         109   450   770    3.5  0.8140         10   \n",
      "276     430         110   550   800    3.5  0.8300        100   \n",
      "3212   5803         112   470   740    3.5  0.8600         10   \n",
      "1666   3957         109   480   770    3.5  0.5600        100   \n",
      "4351   9227         109   580   800    3.5  0.8000        100   \n",
      "4000   8551         102   340   750    3.0  0.0700        100   \n",
      "589    1471          94   440   770    3.0  0.8220         10   \n",
      "2064   4439          92   450   650    3.0  0.6930         10   \n",
      "4534   9443         114   510   800    4.0  0.8520         10   \n",
      "1620   3900         109   580   800    3.5  0.8000        100   \n",
      "4942   9918          93   420   770    3.0  0.8990         10   \n",
      "2653   5156         104   410   760    3.5  0.7813        100   \n",
      "4080   8910         114   590   780    3.5  0.8300         10   \n",
      "3352   6844          99   480   730    3.5  0.9260         10   \n",
      "4736   9676          85   410   710    2.5  0.6000        100   \n",
      "4029   8586         113   580   750    3.5  0.8540         10   \n",
      "3398   7808          93   370   750    3.0  0.5850        100   \n",
      "3654   8132         100   480   700    3.5  0.7100        100   \n",
      "1576   3846         114   500   800    4.0  0.7960        100   \n",
      "2551   5026         110   520   750    2.5  0.8000        100   \n",
      "\n",
      "                                               univName  \n",
      "1940                         University of Texas Dallas  \n",
      "2737                         University of Texas Dallas  \n",
      "3817                      University of Texas Arlington  \n",
      "4849                  University of Southern California  \n",
      "239   Virginia Polytechnic Institute and State Unive...  \n",
      "1900                         University of Texas Dallas  \n",
      "637                     University of Wisconsin Madison  \n",
      "2482                         University of Texas Dallas  \n",
      "3329                         University of Texas Austin  \n",
      "2225                         University of Texas Dallas  \n",
      "2117                         University of Texas Dallas  \n",
      "2078                         University of Texas Dallas  \n",
      "4087                  University of Southern California  \n",
      "860                                  University of Utah  \n",
      "2540                         University of Texas Dallas  \n",
      "303   Virginia Polytechnic Institute and State Unive...  \n",
      "2628                         University of Texas Dallas  \n",
      "1355                         University of Texas Dallas  \n",
      "915                                  University of Utah  \n",
      "3015                         University of Texas Dallas  \n",
      "4644                  University of Southern California  \n",
      "4641                  University of Southern California  \n",
      "1183                         University of Texas Dallas  \n",
      "4402                  University of Southern California  \n",
      "2816                         University of Texas Dallas  \n",
      "5210                  University of Southern California  \n",
      "5133                  University of Southern California  \n",
      "4407                  University of Southern California  \n",
      "1434                         University of Texas Dallas  \n",
      "4580                  University of Southern California  \n",
      "...                                                 ...  \n",
      "1443                         University of Texas Dallas  \n",
      "3116                         University of Texas Dallas  \n",
      "3541                      University of Texas Arlington  \n",
      "2601                         University of Texas Dallas  \n",
      "1679                         University of Texas Dallas  \n",
      "4846                  University of Southern California  \n",
      "4543                  University of Southern California  \n",
      "177                              Wayne State University  \n",
      "2218                         University of Texas Dallas  \n",
      "4298                  University of Southern California  \n",
      "2593                         University of Texas Dallas  \n",
      "276   Virginia Polytechnic Institute and State Unive...  \n",
      "3212                         University of Texas Dallas  \n",
      "1666                         University of Texas Dallas  \n",
      "4351                  University of Southern California  \n",
      "4000                      University of Texas Arlington  \n",
      "589                     University of Wisconsin Madison  \n",
      "2064                         University of Texas Dallas  \n",
      "4534                  University of Southern California  \n",
      "1620                         University of Texas Dallas  \n",
      "4942                  University of Southern California  \n",
      "2653                         University of Texas Dallas  \n",
      "4080                  University of Southern California  \n",
      "3352                         University of Texas Austin  \n",
      "4736                  University of Southern California  \n",
      "4029                      University of Texas Arlington  \n",
      "3398                      University of Texas Arlington  \n",
      "3654                      University of Texas Arlington  \n",
      "1576                         University of Texas Dallas  \n",
      "2551                         University of Texas Dallas  \n",
      "\n",
      "[1053 rows x 8 columns]\n",
      "      index  toeflScore  greV  greQ   greA    cgpa  cgpaScale  \\\n",
      "1940   4290         101   490   770    3.5  0.6920        100   \n",
      "2737   5251         104   580   770    3.5  0.7730         10   \n",
      "3817   8333          99   520   770    3.0  0.8890         10   \n",
      "4849   9810         102   480   770    4.0  0.7300        100   \n",
      "239     384         102   520   790    3.5  0.6900         10   \n",
      "1900   4244          94   460   720    3.0  0.7600        100   \n",
      "637    1522         116   620   800    4.5  0.7890         10   \n",
      "2482   4948          97   370   740    3.0  0.8140        100   \n",
      "3329   6816         110   520   800    4.0  0.7320         10   \n",
      "2225   4632         105   490   710    3.0  0.7340        100   \n",
      "2117   4507         105   520   770  305.0  0.8000        100   \n",
      "2078   4456          88   330   750    3.0  0.8800         10   \n",
      "4087   8917          97   500   800    3.0  0.6740        100   \n",
      "860    2698         102   420   800    4.0  0.7774        100   \n",
      "2540   5014         113   430   800    4.0  0.8300         10   \n",
      "303     461         104   530   800    3.5  0.7100        100   \n",
      "2628   5125          90   520   760    3.5  0.7500        100   \n",
      "1355   3579         115   530   750    4.0  0.7160        100   \n",
      "915    2760         114   550   770    4.0  0.8290         10   \n",
      "3015   5569          99   380   760    3.0  0.7600        100   \n",
      "4644   9573         117   340   670    4.0  0.8000         10   \n",
      "4641   9570         104   350   790    3.0  0.9170         10   \n",
      "1183   3371          98   380   780    3.5  0.7920        100   \n",
      "4402   9287         300   660   730    5.0  0.6827        100   \n",
      "2816   5337         103   520   750    4.0  0.7900        100   \n",
      "5210  10226          97   410   800    3.0  0.9130         10   \n",
      "5133  10137         112   620   800    4.0  0.8450         10   \n",
      "4407   9294          90   400   750    2.5  0.8250          4   \n",
      "1434   3681         110   710   730    3.0  0.6000         10   \n",
      "4580   9497         108   550   780    4.0  0.8320         10   \n",
      "...     ...         ...   ...   ...    ...     ...        ...   \n",
      "1443   3691         110   670   800    4.0  0.8700         10   \n",
      "3116   5690         104   530   710    3.0  0.7200        100   \n",
      "3541   7988          85   440   730    3.5  0.6800        100   \n",
      "2601   5089         112   520   800    4.0  0.8000        100   \n",
      "1679   3970         101   420   750    4.0  0.7000        100   \n",
      "4846   9807          93   540   790    3.5  0.6300        100   \n",
      "4543   9452         112   550   800    4.5  0.7100        100   \n",
      "177     283          84   400   700    2.5  0.8240         10   \n",
      "2218   4625         109   620   740    3.0  0.8500         10   \n",
      "4298   9162         108   520   780    3.0  0.7800        100   \n",
      "2593   5078         109   450   770    3.5  0.8140         10   \n",
      "276     430         110   550   800    3.5  0.8300        100   \n",
      "3212   5803         112   470   740    3.5  0.8600         10   \n",
      "1666   3957         109   480   770    3.5  0.5600        100   \n",
      "4351   9227         109   580   800    3.5  0.8000        100   \n",
      "4000   8551         102   340   750    3.0  0.0700        100   \n",
      "589    1471          94   440   770    3.0  0.8220         10   \n",
      "2064   4439          92   450   650    3.0  0.6930         10   \n",
      "4534   9443         114   510   800    4.0  0.8520         10   \n",
      "1620   3900         109   580   800    3.5  0.8000        100   \n",
      "4942   9918          93   420   770    3.0  0.8990         10   \n",
      "2653   5156         104   410   760    3.5  0.7813        100   \n",
      "4080   8910         114   590   780    3.5  0.8300         10   \n",
      "3352   6844          99   480   730    3.5  0.9260         10   \n",
      "4736   9676          85   410   710    2.5  0.6000        100   \n",
      "4029   8586         113   580   750    3.5  0.8540         10   \n",
      "3398   7808          93   370   750    3.0  0.5850        100   \n",
      "3654   8132         100   480   700    3.5  0.7100        100   \n",
      "1576   3846         114   500   800    4.0  0.7960        100   \n",
      "2551   5026         110   520   750    2.5  0.8000        100   \n",
      "\n",
      "                                               univName  \n",
      "1940                         University of Texas Dallas  \n",
      "2737                         University of Texas Dallas  \n",
      "3817                      University of Texas Arlington  \n",
      "4849                  University of Southern California  \n",
      "239   Virginia Polytechnic Institute and State Unive...  \n",
      "1900                         University of Texas Dallas  \n",
      "637                     University of Wisconsin Madison  \n",
      "2482                         University of Texas Dallas  \n",
      "3329                         University of Texas Austin  \n",
      "2225                         University of Texas Dallas  \n",
      "2117                         University of Texas Dallas  \n",
      "2078                         University of Texas Dallas  \n",
      "4087                  University of Southern California  \n",
      "860                                  University of Utah  \n",
      "2540                         University of Texas Dallas  \n",
      "303   Virginia Polytechnic Institute and State Unive...  \n",
      "2628                         University of Texas Dallas  \n",
      "1355                         University of Texas Dallas  \n",
      "915                                  University of Utah  \n",
      "3015                         University of Texas Dallas  \n",
      "4644                  University of Southern California  \n",
      "4641                  University of Southern California  \n",
      "1183                         University of Texas Dallas  \n",
      "4402                  University of Southern California  \n",
      "2816                         University of Texas Dallas  \n",
      "5210                  University of Southern California  \n",
      "5133                  University of Southern California  \n",
      "4407                  University of Southern California  \n",
      "1434                         University of Texas Dallas  \n",
      "4580                  University of Southern California  \n",
      "...                                                 ...  \n",
      "1443                         University of Texas Dallas  \n",
      "3116                         University of Texas Dallas  \n",
      "3541                      University of Texas Arlington  \n",
      "2601                         University of Texas Dallas  \n",
      "1679                         University of Texas Dallas  \n",
      "4846                  University of Southern California  \n",
      "4543                  University of Southern California  \n",
      "177                              Wayne State University  \n",
      "2218                         University of Texas Dallas  \n",
      "4298                  University of Southern California  \n",
      "2593                         University of Texas Dallas  \n",
      "276   Virginia Polytechnic Institute and State Unive...  \n",
      "3212                         University of Texas Dallas  \n",
      "1666                         University of Texas Dallas  \n",
      "4351                  University of Southern California  \n",
      "4000                      University of Texas Arlington  \n",
      "589                     University of Wisconsin Madison  \n",
      "2064                         University of Texas Dallas  \n",
      "4534                  University of Southern California  \n",
      "1620                         University of Texas Dallas  \n",
      "4942                  University of Southern California  \n",
      "2653                         University of Texas Dallas  \n",
      "4080                  University of Southern California  \n",
      "3352                         University of Texas Austin  \n",
      "4736                  University of Southern California  \n",
      "4029                      University of Texas Arlington  \n",
      "3398                      University of Texas Arlington  \n",
      "3654                      University of Texas Arlington  \n",
      "1576                         University of Texas Dallas  \n",
      "2551                         University of Texas Dallas  \n",
      "\n",
      "[1053 rows x 8 columns]\n"
     ]
    }
   ],
   "source": [
    "random_indices = permutation(data.index)\n",
    "test_cutoff = math.floor(len(data)/5)\n",
    "print(test_cutoff)\n",
    "test = data.loc[random_indices[1:test_cutoff]]\n",
    "print(test)\n",
    "train = data.loc[random_indices[test_cutoff:]]\n",
    "train_output_data = train['univName']\n",
    "train_input_data = train\n",
    "train_input_data = train_input_data.drop('univName',1)\n",
    "test_output_data = test['univName']\n",
    "test_input_data = test\n",
    "test_input_data = test_input_data.drop('univName',1)\n",
    "print(test)"
   ]
  },
  {
   "cell_type": "code",
   "execution_count": 94,
   "metadata": {},
   "outputs": [],
   "source": [
    "def label_img(word_label):\n",
    "    #print(word_label)\n",
    "    if (word_label == 'University of Texas Arlington') : return np.array([1,0,0,0,0,0,0,0,0,0])\n",
    "    elif (word_label == 'University of Utah') : return np.array([0,1,0,0,0,0,0,0,0,0])\n",
    "    elif (word_label == 'Virginia Polytechnic Institute and State University') : return np.array([0,0,1,0,0,0,0,0,0,0])\n",
    "    elif (word_label == 'Worcester Polytechnic Institute') : return np.array([0,0,0,1,0,0,0,0,0,0])\n",
    "    elif (word_label == 'University of Wisconsin Madison') : return np.array([0,0,0,0,1,0,0,0,0,0])\n",
    "    elif (word_label == 'Wayne State University') : return np.array([0,0,0,0,0,1,0,0,0,0])\n",
    "    elif (word_label == 'University of Washington') : return np.array([0,0,0,0,0,0,1,0,0,0])\n",
    "    elif (word_label == 'University of Southern California') : return np.array([0,0,0,0,0,0,0,1,0,0])\n",
    "    elif (word_label == 'University of Texas Austin') : return np.array([0,0,0,0,0,0,0,0,1,0])\n",
    "    elif (word_label == 'University of Texas Dallas') : return np.array([0,0,0,0,0,0,0,0,0,1])\n",
    "    #else : return np.array([0,0,0,0,0,0,0,0,0,0])"
   ]
  },
  {
   "cell_type": "code",
   "execution_count": 95,
   "metadata": {},
   "outputs": [],
   "source": [
    "trainlabel=[]\n",
    "for i in train_output_data :\n",
    "    train_labels=label_img(i)\n",
    "    trainlabel.append(train_labels)"
   ]
  },
  {
   "cell_type": "code",
   "execution_count": 96,
   "metadata": {},
   "outputs": [
    {
     "name": "stdout",
     "output_type": "stream",
     "text": [
      "(4217, 10)\n"
     ]
    }
   ],
   "source": [
    "trainlabel=np.array(trainlabel)\n",
    "print(trainlabel.shape)"
   ]
  },
  {
   "cell_type": "code",
   "execution_count": 97,
   "metadata": {},
   "outputs": [],
   "source": [
    "from __future__ import print_function\n",
    "import keras\n",
    "from keras.datasets import mnist\n",
    "from keras.models import Sequential\n",
    "from keras.layers import Dense, Dropout, Flatten\n",
    "from keras.layers import Conv1D, MaxPooling1D\n",
    "from keras import backend as K\n",
    "model = Sequential()\n",
    "model.add(Conv1D(filters=64, kernel_size=3, activation='relu', input_shape=(7,1)))\n",
    "model.add(Conv1D(filters=64, kernel_size=3, activation='relu'))\n",
    "model.add(Dropout(0.5))\n",
    "model.add(MaxPooling1D(pool_size=2))\n",
    "model.add(Flatten())\n",
    "model.add(Dense(100, activation='relu'))\n",
    "#model.add(Dropout(0.5))\n",
    "model.add(Dense(10, activation='softmax'))"
   ]
  },
  {
   "cell_type": "code",
   "execution_count": 98,
   "metadata": {},
   "outputs": [],
   "source": [
    "model.compile(loss='categorical_crossentropy', optimizer='adam', metrics=['accuracy'])\n",
    "\n"
   ]
  },
  {
   "cell_type": "code",
   "execution_count": 99,
   "metadata": {},
   "outputs": [],
   "source": [
    "train_input_data=train_input_data.values.reshape(4217,7,1)\n",
    "\n",
    "test_input_data=test_input_data.values.reshape(1053,7,1)"
   ]
  },
  {
   "cell_type": "code",
   "execution_count": 100,
   "metadata": {},
   "outputs": [],
   "source": [
    "train_mean = np.mean(train_input_data, axis=0)\n",
    "train_std = np.std(train_input_data, axis=0)\n",
    "test_mean = np.mean(test_input_data, axis=0)\n",
    "test_std = np.std(test_input_data, axis=0)\n",
    "\n",
    "train_norm = (train_input_data - train_mean) / train_std\n",
    "test_norm = (test_input_data - test_mean) / test_std"
   ]
  },
  {
   "cell_type": "code",
   "execution_count": 101,
   "metadata": {},
   "outputs": [
    {
     "name": "stdout",
     "output_type": "stream",
     "text": [
      "(1053, 10)\n",
      "(4217, 7, 1)\n"
     ]
    }
   ],
   "source": [
    "testlabel=[]\n",
    "for i in test_output_data :\n",
    "    test_labels=label_img(i)\n",
    "    testlabel.append(test_labels)\n",
    "    \n",
    "testlabel=np.array(testlabel)\n",
    "print(testlabel.shape)\n",
    "print(train_input_data.shape)"
   ]
  },
  {
   "cell_type": "code",
   "execution_count": 102,
   "metadata": {},
   "outputs": [
    {
     "name": "stdout",
     "output_type": "stream",
     "text": [
      "Epoch 1/5\n",
      "4217/4217 [==============================] - 1s 132us/step - loss: 1.5902 - acc: 0.5421\n",
      "Epoch 2/5\n",
      "4217/4217 [==============================] - 0s 43us/step - loss: 0.9926 - acc: 0.6891\n",
      "Epoch 3/5\n",
      "4217/4217 [==============================] - 0s 43us/step - loss: 0.8175 - acc: 0.7273\n",
      "Epoch 4/5\n",
      "4217/4217 [==============================] - 0s 42us/step - loss: 0.7371 - acc: 0.7470\n",
      "Epoch 5/5\n",
      "4217/4217 [==============================] - 0s 42us/step - loss: 0.6854 - acc: 0.7641\n"
     ]
    },
    {
     "data": {
      "text/plain": [
       "<keras.callbacks.History at 0x1431048d0>"
      ]
     },
     "execution_count": 102,
     "metadata": {},
     "output_type": "execute_result"
    }
   ],
   "source": [
    "\n",
    "model.fit(train_norm, trainlabel, epochs=5, verbose=1)"
   ]
  },
  {
   "cell_type": "code",
   "execution_count": 103,
   "metadata": {},
   "outputs": [],
   "source": [
    "\n",
    "def call(x):\n",
    "    if x==1:\n",
    "        return 'University of Utah'\n",
    "    if x==2:\n",
    "        return 'Virginia Polytechnic Institute and State University'\n",
    "    if x==3:\n",
    "        return 'Worcester Polytechnic Institute'\n",
    "    if x==4:\n",
    "        return 'University of Wisconsin Madison'\n",
    "    if x==5:\n",
    "        return 'Wayne State University'\n",
    "    if x==6:\n",
    "        return 'University of Washington'\n",
    "    if x==7:\n",
    "        return 'University of Southern California'\n",
    "    if x==8:\n",
    "        return 'University of Texas Austin'\n",
    "    if x==9:\n",
    "        return 'University of Texas Dallas'\n",
    "    if x==0:\n",
    "        return 'University of Texas Arlington'"
   ]
  },
  {
   "cell_type": "code",
   "execution_count": 104,
   "metadata": {},
   "outputs": [
    {
     "name": "stdout",
     "output_type": "stream",
     "text": [
      "1053/1053 [==============================] - 0s 99us/step\n",
      "Test loss: 0.6129309251437499\n",
      "Test accuracy: 79.77207984566576\n",
      "[[9.2286058e-02 1.2131513e-04 1.9383318e-05 1.3141396e-06 3.8420939e-07\n",
      "  2.1130288e-06 1.1862421e-05 9.0508252e-01 2.4139904e-03 6.1065337e-05]]\n",
      "University of Southern California\n"
     ]
    }
   ],
   "source": [
    "from numpy.random import randint\n",
    "from numpy import argmax\n",
    "from keras.utils.np_utils import to_categorical\n",
    "\n",
    "score = model.evaluate(test_norm, testlabel, verbose=1)\n",
    "print('Test loss:', score[0])\n",
    "print('Test accuracy:', score[1]*100)\n",
    "\n",
    "y=model.predict(test_norm[1043:1044])\n",
    "#print(test_input_data[1:])\n",
    "print(y)\n",
    "m=call(np.argmax(y))\n",
    "print(m)\n",
    "\n"
   ]
  },
  {
   "cell_type": "code",
   "execution_count": 105,
   "metadata": {},
   "outputs": [
    {
     "name": "stdout",
     "output_type": "stream",
     "text": [
      "              precision    recall  f1-score   support\n",
      "\n",
      "           0       0.79      0.70      0.74       130\n",
      "           1       0.00      0.00      0.00        59\n",
      "           2       0.00      0.00      0.00        51\n",
      "           3       0.00      0.00      0.00        15\n",
      "           4       0.00      0.00      0.00        39\n",
      "           5       0.00      0.00      0.00        32\n",
      "           6       0.00      0.00      0.00        40\n",
      "           7       0.84      0.92      0.88       226\n",
      "           8       0.67      0.10      0.17        20\n",
      "           9       0.92      0.98      0.95       441\n",
      "\n",
      "   micro avg       0.88      0.70      0.78      1053\n",
      "   macro avg       0.32      0.27      0.27      1053\n",
      "weighted avg       0.68      0.70      0.68      1053\n",
      " samples avg       0.70      0.70      0.70      1053\n",
      "\n"
     ]
    },
    {
     "name": "stderr",
     "output_type": "stream",
     "text": [
      "/anaconda3/lib/python3.7/site-packages/sklearn/metrics/classification.py:1437: UndefinedMetricWarning: Precision and F-score are ill-defined and being set to 0.0 in labels with no predicted samples.\n",
      "  'precision', 'predicted', average, warn_for)\n",
      "/anaconda3/lib/python3.7/site-packages/sklearn/metrics/classification.py:1437: UndefinedMetricWarning: Precision and F-score are ill-defined and being set to 0.0 in labels with no predicted samples.\n",
      "  'precision', 'predicted', average, warn_for)\n",
      "/anaconda3/lib/python3.7/site-packages/sklearn/metrics/classification.py:1437: UndefinedMetricWarning: Precision and F-score are ill-defined and being set to 0.0 in labels with no predicted samples.\n",
      "  'precision', 'predicted', average, warn_for)\n",
      "/anaconda3/lib/python3.7/site-packages/sklearn/metrics/classification.py:1437: UndefinedMetricWarning: Precision and F-score are ill-defined and being set to 0.0 in samples with no predicted labels.\n",
      "  'precision', 'predicted', average, warn_for)\n"
     ]
    }
   ],
   "source": [
    "from sklearn.metrics import classification_report\n",
    "y_pred=model.predict(test_norm, batch_size=20, verbose=2)\n",
    "report = classification_report(testlabel, y_pred.round())\n",
    "print(report)"
   ]
  },
  {
   "cell_type": "code",
   "execution_count": 106,
   "metadata": {},
   "outputs": [
    {
     "data": {
      "image/png": "[encoded data removed]",
      "text/plain": [
       "<Figure size 432x288 with 1 Axes>"
      ]
     },
     "metadata": {
      "needs_background": "light"
     },
     "output_type": "display_data"
    }
   ],
   "source": [
    "import seaborn as sns\n",
    "from sklearn.metrics import confusion_matrix\n",
    "def draw_confusion_matrix(true,preds):\n",
    "    conf_matx = confusion_matrix(true, preds)\n",
    "    sns.heatmap(conf_matx, annot=True,annot_kws={\"size\": 12},fmt='g', cbar=False, cmap=\"viridis\")\n",
    "    plt.show()\n",
    "draw_confusion_matrix(testlabel.argmax(axis=1), y_pred.round().argmax(axis=1))"
   ]
  },
  {
   "cell_type": "code",
   "execution_count": null,
   "metadata": {},
   "outputs": [],
   "source": []
  },
  {
   "cell_type": "code",
   "execution_count": null,
   "metadata": {},
   "outputs": [],
   "source": []
  }
 ],
 "metadata": {
  "kernelspec": {
   "display_name": "Python 3",
   "language": "python",
   "name": "python3"
  },
  "language_info": {
   "codemirror_mode": {
    "name": "ipython",
    "version": 3
   },
   "file_extension": ".py",
   "mimetype": "text/x-python",
   "name": "python",
   "nbconvert_exporter": "python",
   "pygments_lexer": "ipython3",
   "version": "3.7.0"
  }
 },
 "nbformat": 4,
 "nbformat_minor": 2
}
