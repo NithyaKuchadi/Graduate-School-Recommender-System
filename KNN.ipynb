{
 "cells": [
  {
   "cell_type": "code",
   "execution_count": 26,
   "metadata": {},
   "outputs": [],
   "source": [
    "import pandas\n",
    "import math\n",
    "from sklearn import neighbors, datasets\n",
    "from numpy.random import permutation\n",
    "import matplotlib.pyplot as plt\n",
    "import numpy as np\n",
    "from sklearn import svm\n",
    "from sklearn.ensemble import RandomForestClassifier\n",
    "from sklearn.metrics import precision_recall_fscore_support"
   ]
  },
  {
   "cell_type": "code",
   "execution_count": 27,
   "metadata": {},
   "outputs": [
    {
     "name": "stdout",
     "output_type": "stream",
     "text": [
      "(25808, 6)\n"
     ]
    },
    {
     "data": {
      "text/html": [
       "<div>\n",
       "<style scoped>\n",
       "    .dataframe tbody tr th:only-of-type {\n",
       "        vertical-align: middle;\n",
       "    }\n",
       "\n",
       "    .dataframe tbody tr th {\n",
       "        vertical-align: top;\n",
       "    }\n",
       "\n",
       "    .dataframe thead th {\n",
       "        text-align: right;\n",
       "    }\n",
       "</style>\n",
       "<table border=\"1\" class=\"dataframe\">\n",
       "  <thead>\n",
       "    <tr style=\"text-align: right;\">\n",
       "      <th></th>\n",
       "      <th>Unnamed: 0</th>\n",
       "      <th>greV</th>\n",
       "      <th>greQ</th>\n",
       "      <th>greA</th>\n",
       "      <th>cgpa</th>\n",
       "      <th>univName</th>\n",
       "    </tr>\n",
       "  </thead>\n",
       "  <tbody>\n",
       "    <tr>\n",
       "      <th>0</th>\n",
       "      <td>14</td>\n",
       "      <td>150.0</td>\n",
       "      <td>166.0</td>\n",
       "      <td>3.0</td>\n",
       "      <td>4.00</td>\n",
       "      <td>Ohio State University</td>\n",
       "    </tr>\n",
       "    <tr>\n",
       "      <th>1</th>\n",
       "      <td>17</td>\n",
       "      <td>157.0</td>\n",
       "      <td>151.0</td>\n",
       "      <td>5.5</td>\n",
       "      <td>3.57</td>\n",
       "      <td>Texas A&amp;M University</td>\n",
       "    </tr>\n",
       "    <tr>\n",
       "      <th>2</th>\n",
       "      <td>46</td>\n",
       "      <td>155.0</td>\n",
       "      <td>167.0</td>\n",
       "      <td>4.0</td>\n",
       "      <td>3.66</td>\n",
       "      <td>University Of California, Irvine</td>\n",
       "    </tr>\n",
       "    <tr>\n",
       "      <th>3</th>\n",
       "      <td>64</td>\n",
       "      <td>161.0</td>\n",
       "      <td>157.0</td>\n",
       "      <td>4.0</td>\n",
       "      <td>3.10</td>\n",
       "      <td>Boston University</td>\n",
       "    </tr>\n",
       "    <tr>\n",
       "      <th>4</th>\n",
       "      <td>203</td>\n",
       "      <td>154.0</td>\n",
       "      <td>170.0</td>\n",
       "      <td>4.0</td>\n",
       "      <td>3.38</td>\n",
       "      <td>Oregon State University</td>\n",
       "    </tr>\n",
       "  </tbody>\n",
       "</table>\n",
       "</div>"
      ],
      "text/plain": [
       "   Unnamed: 0   greV   greQ  greA  cgpa                          univName\n",
       "0          14  150.0  166.0   3.0  4.00             Ohio State University\n",
       "1          17  157.0  151.0   5.5  3.57              Texas A&M University\n",
       "2          46  155.0  167.0   4.0  3.66  University Of California, Irvine\n",
       "3          64  161.0  157.0   4.0  3.10                 Boston University\n",
       "4         203  154.0  170.0   4.0  3.38           Oregon State University"
      ]
     },
     "execution_count": 27,
     "metadata": {},
     "output_type": "execute_result"
    }
   ],
   "source": [
    "#col_names=['index','toeflScore','greV','greQ','greA','cgpa','cgpaScale','univName']\n",
    "data = pandas.read_csv('processed_new.csv')\n",
    "print(data.shape)\n",
    "data.head()\n"
   ]
  },
  {
   "cell_type": "code",
   "execution_count": 28,
   "metadata": {},
   "outputs": [
    {
     "name": "stdout",
     "output_type": "stream",
     "text": [
      "25808\n"
     ]
    },
    {
     "data": {
      "text/plain": [
       "{'Ohio State University': [138.2978723, 146.8085106, 5.0, 4.0],\n",
       " 'Texas A&M University': [130.0, 170.212766, 4.0, 3.7],\n",
       " 'University Of California, Irvine': [130.0, 170.212766, 3.5, 3.1],\n",
       " 'Boston University': [131.9148936, 146.8085106, 4.0, 3.2],\n",
       " 'Oregon State University': [131.9148936, 153.1914894, 3.5, 3.86],\n",
       " 'Stanford University': [130.0, 170.212766, 4.0, 3.99],\n",
       " 'McGill University': [130.0, 170.212766, 3.0, 3.98],\n",
       " 'University Of Texas At Austin': [130.0, 170.212766, 3.5, 4.0],\n",
       " 'Columbia University': [130.0, 170.212766, 4.0, 3.99],\n",
       " 'University Of Michigan': [155.3191489, 170.212766, 6.0, 3.8],\n",
       " 'University Of Virginia': [148.9361702, 144.6808511, 5.5, 3.85],\n",
       " 'Carnegie Mellon University': [130.0, 163.8297872, 3.5, 3.73],\n",
       " 'University Of Texas At Dallas': [131.9148936, 165.9574468, 3.0, 3.5],\n",
       " 'New York University': [159.0, 168.0, 4.0, 3.74],\n",
       " 'University Of Southern California': [130.0, 170.212766, 3.5, 3.64],\n",
       " 'Northeastern University': [130.0, 168.0851064, 4.5, 3.93],\n",
       " 'Tufts University': [159.5744681, 170.212766, 5.0, 3.83],\n",
       " 'Iowa State University': [136.1702128, 153.1914894, 4.0, 3.18],\n",
       " 'North Carolina State University': [148.9361702, 170.212766, 5.5, 4.0],\n",
       " 'American University': [130.0, 170.212766, 5.0, 3.83],\n",
       " 'NCSU (North Carolina State University)': [156.0, 167.0, 3.5, 7.6],\n",
       " 'University Of Californa, Los Angeles (UCLA)': [130.0,\n",
       "  148.9361702,\n",
       "  4.5,\n",
       "  3.91],\n",
       " 'Princeton University': [130.0, 170.212766, 3.0, 3.69],\n",
       " 'University Of Wisconsin-Madison': [144.6808511, 170.212766, 3.0, 3.6],\n",
       " 'Purdue University - West Lafayette': [130.0, 170.212766, 3.5, 3.79],\n",
       " 'Northwestern University': [140.4255319, 168.0851064, 5.5, 3.99],\n",
       " 'University Of Colorado, Boulder': [138.2978723, 155.3191489, 5.0, 3.8],\n",
       " 'University Of Notre Dame': [136.1702128, 168.0851064, 6.0, 3.95],\n",
       " 'Clemson University': [130.0, 168.0851064, 3.5, 3.3],\n",
       " 'University Of Cincinnati': [134.0425532, 142.5531915, 5.0, 3.5],\n",
       " 'University Of South Carolina': [153.1914894, 159.5744681, 5.0, 3.67],\n",
       " 'University Of South Florida': [155.3191489, 134.0425532, 5.0, 3.8],\n",
       " 'University Of Minnesota': [165.0, 156.0, 5.5, 4.0],\n",
       " 'Emory University': [148.9361702, 130.0, 5.0, 3.6],\n",
       " 'University Of Washington': [144.6808511, 170.212766, 4.5, 3.8],\n",
       " 'George Washington University': [130.0, 146.8085106, 4.0, 3.2],\n",
       " 'University Of Toronto': [131.9148936, 170.212766, 4.5, 4.0],\n",
       " 'Arizona State University': [130.0, 130.0, 5.5, 4.0],\n",
       " 'University Of Pennsylvania': [153.1914894, 170.212766, 3.0, 3.84],\n",
       " 'University Of Houston': [153.1914894, 130.0, 5.5, 3.64],\n",
       " 'UC San Diego (UCSD)': [130.0, 170.212766, 2.5, 3.88],\n",
       " 'University Of Chicago': [131.9148936, 170.212766, 4.5, 3.86],\n",
       " 'Colorado State University': [146.8085106, 130.0, 5.0, 3.45],\n",
       " 'Harvard University': [151.0638298, 165.9574468, 4.0, 3.24],\n",
       " 'University Of Arizona': [130.0, 165.9574468, 3.0, 4.0],\n",
       " 'University Of Kansas': [134.0425532, 134.0425532, 0.0, 3.54],\n",
       " 'University Of Florida': [130.0, 170.212766, 3.0, 3.6],\n",
       " 'Rice University': [134.0425532, 170.212766, 4.5, 3.9],\n",
       " 'Indiana University Bloomington': [138.2978723, 146.8085106, 4.5, 3.7],\n",
       " 'Vanderbilt University': [144.6808511, 161.7021277, 4.5, 3.87],\n",
       " 'University Of Kentucky': [130.0, 136.1702128, 4.0, 3.58],\n",
       " 'University Of California, Davis': [130.0, 168.0851064, 5.0, 3.8],\n",
       " 'University Of Illinois At Urbana-Champaign': [136.1702128,\n",
       "  165.9574468,\n",
       "  4.0,\n",
       "  3.02],\n",
       " 'University Of Colorado Boulder': [157.4468085, 130.0, 3.0, 3.3],\n",
       " 'Rutgers University': [163.8297872, 165.9574468, 4.5, 3.96],\n",
       " 'Michigan State University': [142.5531915, 170.212766, 5.0, 4.0],\n",
       " 'University Of Utah': [130.0, 161.7021277, 4.5, 3.11],\n",
       " 'University Of Georgia': [130.0, 170.212766, 4.0, 3.67],\n",
       " 'Temple University': [163.8297872, 163.8297872, 5.5, 3.6],\n",
       " 'University Of Wisconsin - Madison': [144.6808511, 163.8297872, 4.0, 3.9],\n",
       " 'Duke University': [140.4255319, 170.212766, 6.0, 3.6],\n",
       " 'Cornell University': [151.0638298, 163.8297872, 0.0, 3.75],\n",
       " 'The University Of Chicago': [130.0, 170.212766, 4.0, 3.6],\n",
       " 'University Of California, Berkeley': [130.0, 159.5744681, 4.5, 3.86],\n",
       " 'Brown University': [168.0851064, 170.212766, 6.0, 3.9],\n",
       " 'University Of Connecticut': [148.9361702, 170.212766, 3.5, 3.67],\n",
       " 'Syracuse University': [138.2978723, 144.6808511, 4.0, 3.9],\n",
       " 'University Of Oxford': [146.8085106, 159.5744681, 5.5, 3.78],\n",
       " 'Georgetown University': [146.8085106, 151.0638298, 4.5, 3.62],\n",
       " 'Johns Hopkins University': [170.212766, 131.9148936, 3.0, 3.84],\n",
       " 'Purdue University': [130.0, 168.0851064, 4.5, 3.73],\n",
       " 'University Of Rochester': [155.3191489, 168.0851064, 5.5, 3.7],\n",
       " 'University Of California, San Diego': [130.0, 170.212766, 4.0, 3.6],\n",
       " 'University Of Iowa': [144.6808511, 168.0851064, 5.0, 3.66],\n",
       " 'University Of Delaware': [130.0, 170.212766, 4.5, 3.96],\n",
       " 'North Carolina State University (NCSU)': [140.4255319,\n",
       "  165.9574468,\n",
       "  4.5,\n",
       "  3.85],\n",
       " 'University Of Maryland College Park': [130.0, 170.212766, 4.5, 3.87],\n",
       " 'Stony Brook University': [140.4255319, 153.1914894, 5.0, 3.86],\n",
       " 'Georgia State University': [130.0, 170.212766, 2.5, 3.8],\n",
       " 'University Of Pittsburgh': [136.1702128, 136.1702128, 4.5, 3.3],\n",
       " 'Washington University in St. Louis (WashU/WUSTL)': [155.3191489,\n",
       "  168.0851064,\n",
       "  5.5,\n",
       "  3.7],\n",
       " 'University Of Oregon': [168.0851064, 140.4255319, 5.5, 3.99],\n",
       " 'University Of Michigan, Ann Arbor': [130.0, 170.212766, 4.5, 3.96],\n",
       " 'George Mason University': [151.0638298, 168.0851064, 4.5, 3.2],\n",
       " 'Carnegie Mellon University (CMU)': [170.212766, 130.0, 3.0, 3.0],\n",
       " 'UC Berkeley': [170.0, 168.0, 5.5, 3.98],\n",
       " 'University Of Maryland': [130.0, 170.212766, 4.0, 3.92],\n",
       " 'UC Davis': [161.0, 163.0, 5.0, 3.94],\n",
       " 'University Of California, Los Angeles (UCLA)': [130.0,\n",
       "  170.212766,\n",
       "  4.0,\n",
       "  3.78],\n",
       " 'Penn State (Pennsylvania State University)': [155.0, 158.0, 4.0, 3.3],\n",
       " 'Penn State University': [155.0, 170.0, 3.5, 3.85],\n",
       " 'UT Austin': [130.0, 170.212766, 4.0, 3.51],\n",
       " 'Yale University': [138.2978723, 159.5744681, 4.5, 3.4],\n",
       " 'UCLA': [168.0851064, 170.212766, 5.5, 3.65],\n",
       " 'University Of Southern California (USC)': [130.0, 163.8297872, 4.5, 3.56],\n",
       " 'University Of Florida (Gainesville)': [130.0, 170.212766, 4.5, 3.96],\n",
       " 'UC Irvine': [130.0, 168.0851064, 4.5, 3.63],\n",
       " 'UNC Chapel Hill': [142.5531915, 170.212766, 5.0, 3.8],\n",
       " 'Wayne State University': [153.1914894, 163.8297872, 5.0, 3.54],\n",
       " 'UIUC': [130.0, 170.212766, 3.0, 3.77],\n",
       " 'The Ohio State University': [168.0851064, 140.4255319, 4.5, 3.91],\n",
       " 'Virginia Polytechnic And State University (Virginia Tech)': [159.0,\n",
       "  167.0,\n",
       "  4.0,\n",
       "  4.0],\n",
       " 'New York University (NYU)': [136.1702128, 144.6808511, 4.5, 3.97],\n",
       " 'USC': [151.0638298, 168.0851064, 6.0, 4.0],\n",
       " '(Arizona State University) ASU': [146.0, 161.0, 3.0, 3.2],\n",
       " 'University Of Central Florida': [170.212766, 140.4255319, 3.0, 3.85],\n",
       " 'The University Of Southern California (USC)': [164.0, 164.0, 4.5, 3.6],\n",
       " '(SUNY) University At Buffalo': [153.0, 158.0, 4.0, 3.77],\n",
       " 'Carnegie  Mellon University (CMU)': [155.0, 170.0, 4.0, 3.2],\n",
       " 'UCSD (University Of California, San Diego)': [150.0, 161.0, 4.0, 3.63],\n",
       " 'University Of Texas At Austin (UT Austin)': [130.0, 130.0, 4.5, 3.6],\n",
       " 'Florida State University': [130.0, 148.9361702, 4.0, 4.0],\n",
       " 'ีUniversity Of Maryland - College Park (UMD)': [163.0, 168.0, 3.5, 3.8],\n",
       " 'University Of Minnesota - Twin Cities (UMN)': [152.0, 165.0, 4.0, 3.7],\n",
       " '\\u200cBoston University': [166.0, 161.0, 4.5, 3.99],\n",
       " 'Ohio State University (OSU)': [140.4255319, 161.7021277, 4.5, 3.7],\n",
       " 'University Of Wisconsin, Madison': [151.0638298, 170.212766, 3.0, 3.6],\n",
       " 'University Of Washington, Seattle': [130.0, 161.7021277, 3.0, 3.93],\n",
       " 'ีUniversity Of Maryland - College Park': [130.0, 165.9574468, 5.0, 3.9],\n",
       " 'University Of Pennsylvania (UPenn)': [165.9574468, 131.9148936, 3.0, 3.4],\n",
       " '\"University Of Washington Seattle': [143.0, 155.0, 3.5, 3.31],\n",
       " 'Columbia  University': [157.0, 161.0, 4.5, 3.4],\n",
       " 'The University Of Wisconsin - Madison': [130.0, 151.0638298, 4.0, 3.7],\n",
       " 'UCSD': [165.0, 170.0, 5.5, 3.7],\n",
       " 'University Of Maryland, College Park': [130.0, 170.212766, 0.0, 3.91],\n",
       " 'University Of California, San Diego (UCSD)': [157.4468085,\n",
       "  161.7021277,\n",
       "  6.0,\n",
       "  3.48],\n",
       " 'University Of California, Berkeley (UCB)': [130.0, 170.212766, 4.0, 3.7]}"
      ]
     },
     "execution_count": 28,
     "metadata": {},
     "output_type": "execute_result"
    }
   ],
   "source": [
    "import csv\n",
    "output_data = dict()\n",
    "alldata=[]\n",
    "univName=[]\n",
    "inputfile = 'processed_new.csv'\n",
    "with open(inputfile, newline='') as csvfile:\n",
    "    reader = csv.DictReader(csvfile)\n",
    "    for row in reader:\n",
    "        k = row.get('univName')\n",
    "        v = [ v for v in row.values() ][1:5]\n",
    "        v = [float(i) for i in v]\n",
    "        alldata.append(v)\n",
    "        univName.append(k)\n",
    "        output_data[k] = v\n",
    "    #print(output_data)\n",
    "    print(len(alldata))\n",
    "output_data"
   ]
  },
  {
   "cell_type": "code",
   "execution_count": 29,
   "metadata": {},
   "outputs": [
    {
     "data": {
      "text/plain": [
       "NearestNeighbors(algorithm='brute', leaf_size=30, metric='cosine',\n",
       "                 metric_params=None, n_jobs=None, n_neighbors=5, p=2,\n",
       "                 radius=1.0)"
      ]
     },
     "execution_count": 29,
     "metadata": {},
     "output_type": "execute_result"
    }
   ],
   "source": [
    "from sklearn.neighbors import NearestNeighbors\n",
    "\n",
    "model_knn = NearestNeighbors(metric = 'cosine', algorithm = 'brute')\n",
    "model_knn.fit(alldata,univName)\n"
   ]
  },
  {
   "cell_type": "code",
   "execution_count": 30,
   "metadata": {},
   "outputs": [
    {
     "name": "stdout",
     "output_type": "stream",
     "text": [
      "[[25456, 23140, 23314, 23888, 23810, 22830, 23165, 23200, 24670, 3924]]\n"
     ]
    }
   ],
   "source": [
    "testSet = [[159.5744681, 170.212766, 5.0, 3.83]]\n",
    "test = pandas.DataFrame(testSet)\n",
    "distances, indices = model_knn.kneighbors(testSet, n_neighbors = 10)\n",
    "indices=indices.tolist()\n",
    "print(indices)"
   ]
  },
  {
   "cell_type": "code",
   "execution_count": 31,
   "metadata": {},
   "outputs": [
    {
     "name": "stdout",
     "output_type": "stream",
     "text": [
      "Recommended Universities for the given GRE Quant, GRE Verbal and GPA Scores are [[159.5744681, 170.212766, 5.0, 3.83]] are:\n",
      "Tufts University\n",
      "University Of California, Berkeley (UCB)\n",
      "University Of Washington\n",
      "Boston University\n",
      "Cornell University\n",
      "University Of Toronto\n",
      "University Of Arizona\n",
      "University Of Wisconsin, Madison\n",
      "University Of Oxford\n",
      "Arizona State University\n"
     ]
    }
   ],
   "source": [
    "print(\"Recommended Universities for the given GRE Quant, GRE Verbal and GPA Scores are\",testSet,\"are:\")\n",
    "for i in indices:\n",
    "    x=i\n",
    "    for j in x:\n",
    "        print(univName[j])\n",
    "    \n"
   ]
  },
  {
   "cell_type": "code",
   "execution_count": null,
   "metadata": {},
   "outputs": [],
   "source": []
  },
  {
   "cell_type": "code",
   "execution_count": null,
   "metadata": {},
   "outputs": [],
   "source": []
  }
 ],
 "metadata": {
  "kernelspec": {
   "display_name": "Python 3",
   "language": "python",
   "name": "python3"
  },
  "language_info": {
   "codemirror_mode": {
    "name": "ipython",
    "version": 3
   },
   "file_extension": ".py",
   "mimetype": "text/x-python",
   "name": "python",
   "nbconvert_exporter": "python",
   "pygments_lexer": "ipython3",
   "version": "3.7.0"
  }
 },
 "nbformat": 4,
 "nbformat_minor": 2
}
