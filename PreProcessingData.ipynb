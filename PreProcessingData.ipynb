{
 "cells": [
  {
   "cell_type": "code",
   "execution_count": 96,
   "metadata": {},
   "outputs": [],
   "source": [
    "import collections\n",
    "import pandas\n",
    "from collections import defaultdict"
   ]
  },
  {
   "cell_type": "code",
   "execution_count": 97,
   "metadata": {},
   "outputs": [
    {
     "data": {
      "text/plain": [
       "(10347, 26)"
      ]
     },
     "execution_count": 97,
     "metadata": {},
     "output_type": "execute_result"
    }
   ],
   "source": [
    "data = pandas.read_csv('csv/UserInfo.csv')\n",
    "data.shape"
   ]
  },
  {
   "cell_type": "code",
   "execution_count": 98,
   "metadata": {},
   "outputs": [],
   "source": [
    "data = data.drop('gmatA',1)\n",
    "data = data.drop('gmatQ',1)\n",
    "data = data.drop('gmatV',1)\n",
    "data = data.drop('specialization',1)\n",
    "data = data.drop('department',1)\n",
    "data = data.drop('program',1)\n",
    "data = data.drop('toeflEssay',1)\n",
    "data = data.drop('userProfileLink',1)\n",
    "data = data.drop('topperCgpa',1)\n",
    "data = data.drop('termAndYear',1)\n",
    "data = data.drop('confPubs',1)\n",
    "data = data.drop('userName',1)\n",
    "data= data.drop('journalPubs',1)"
   ]
  },
  {
   "cell_type": "code",
   "execution_count": 99,
   "metadata": {},
   "outputs": [
    {
     "name": "stdout",
     "output_type": "stream",
     "text": [
      "(10347, 13)\n"
     ]
    },
    {
     "data": {
      "text/html": [
       "<div>\n",
       "<style scoped>\n",
       "    .dataframe tbody tr th:only-of-type {\n",
       "        vertical-align: middle;\n",
       "    }\n",
       "\n",
       "    .dataframe tbody tr th {\n",
       "        vertical-align: top;\n",
       "    }\n",
       "\n",
       "    .dataframe thead th {\n",
       "        text-align: right;\n",
       "    }\n",
       "</style>\n",
       "<table border=\"1\" class=\"dataframe\">\n",
       "  <thead>\n",
       "    <tr style=\"text-align: right;\">\n",
       "      <th></th>\n",
       "      <th>major</th>\n",
       "      <th>researchExp</th>\n",
       "      <th>industryExp</th>\n",
       "      <th>toeflScore</th>\n",
       "      <th>internExp</th>\n",
       "      <th>greV</th>\n",
       "      <th>greQ</th>\n",
       "      <th>greA</th>\n",
       "      <th>ugCollege</th>\n",
       "      <th>cgpa</th>\n",
       "      <th>cgpaScale</th>\n",
       "      <th>univName</th>\n",
       "      <th>admit</th>\n",
       "    </tr>\n",
       "  </thead>\n",
       "  <tbody>\n",
       "    <tr>\n",
       "      <th>0</th>\n",
       "      <td>Systems and Control</td>\n",
       "      <td>0</td>\n",
       "      <td>18</td>\n",
       "      <td>112.0</td>\n",
       "      <td>5.0</td>\n",
       "      <td>160.0</td>\n",
       "      <td>167.0</td>\n",
       "      <td>4.5</td>\n",
       "      <td>Dharamsinh Desai University</td>\n",
       "      <td>8.50</td>\n",
       "      <td>10</td>\n",
       "      <td>Worcester Polytechnic Institute</td>\n",
       "      <td>1.0</td>\n",
       "    </tr>\n",
       "    <tr>\n",
       "      <th>1</th>\n",
       "      <td>Manufacturing Engineering</td>\n",
       "      <td>0</td>\n",
       "      <td>0</td>\n",
       "      <td>NaN</td>\n",
       "      <td>0.0</td>\n",
       "      <td>NaN</td>\n",
       "      <td>NaN</td>\n",
       "      <td>NaN</td>\n",
       "      <td>NaN</td>\n",
       "      <td>0.00</td>\n",
       "      <td>0</td>\n",
       "      <td>Worcester Polytechnic Institute</td>\n",
       "      <td>1.0</td>\n",
       "    </tr>\n",
       "    <tr>\n",
       "      <th>2</th>\n",
       "      <td>(MIS / MSIM / MSIS / MSIT)</td>\n",
       "      <td>0</td>\n",
       "      <td>66</td>\n",
       "      <td>94.0</td>\n",
       "      <td>0.0</td>\n",
       "      <td>146.0</td>\n",
       "      <td>157.0</td>\n",
       "      <td>3.0</td>\n",
       "      <td>IET DAVV</td>\n",
       "      <td>78.28</td>\n",
       "      <td>100</td>\n",
       "      <td>Worcester Polytechnic Institute</td>\n",
       "      <td>1.0</td>\n",
       "    </tr>\n",
       "    <tr>\n",
       "      <th>3</th>\n",
       "      <td>NaN</td>\n",
       "      <td>0</td>\n",
       "      <td>0</td>\n",
       "      <td>NaN</td>\n",
       "      <td>0.0</td>\n",
       "      <td>NaN</td>\n",
       "      <td>NaN</td>\n",
       "      <td>NaN</td>\n",
       "      <td>NaN</td>\n",
       "      <td>0.00</td>\n",
       "      <td>0</td>\n",
       "      <td>Worcester Polytechnic Institute</td>\n",
       "      <td>1.0</td>\n",
       "    </tr>\n",
       "    <tr>\n",
       "      <th>4</th>\n",
       "      <td>MIS</td>\n",
       "      <td>0</td>\n",
       "      <td>0</td>\n",
       "      <td>81.0</td>\n",
       "      <td>0.0</td>\n",
       "      <td>420.0</td>\n",
       "      <td>770.0</td>\n",
       "      <td>2.5</td>\n",
       "      <td>Pune University</td>\n",
       "      <td>57.00</td>\n",
       "      <td>100</td>\n",
       "      <td>Worcester Polytechnic Institute</td>\n",
       "      <td>1.0</td>\n",
       "    </tr>\n",
       "  </tbody>\n",
       "</table>\n",
       "</div>"
      ],
      "text/plain": [
       "                        major  researchExp  industryExp  toeflScore  \\\n",
       "0         Systems and Control            0           18       112.0   \n",
       "1   Manufacturing Engineering            0            0         NaN   \n",
       "2  (MIS / MSIM / MSIS / MSIT)            0           66        94.0   \n",
       "3                         NaN            0            0         NaN   \n",
       "4                         MIS            0            0        81.0   \n",
       "\n",
       "   internExp   greV   greQ  greA                    ugCollege   cgpa  \\\n",
       "0        5.0  160.0  167.0   4.5  Dharamsinh Desai University   8.50   \n",
       "1        0.0    NaN    NaN   NaN                          NaN   0.00   \n",
       "2        0.0  146.0  157.0   3.0                     IET DAVV  78.28   \n",
       "3        0.0    NaN    NaN   NaN                          NaN   0.00   \n",
       "4        0.0  420.0  770.0   2.5              Pune University  57.00   \n",
       "\n",
       "   cgpaScale                         univName  admit  \n",
       "0         10  Worcester Polytechnic Institute    1.0  \n",
       "1          0  Worcester Polytechnic Institute    1.0  \n",
       "2        100  Worcester Polytechnic Institute    1.0  \n",
       "3          0  Worcester Polytechnic Institute    1.0  \n",
       "4        100  Worcester Polytechnic Institute    1.0  "
      ]
     },
     "execution_count": 99,
     "metadata": {},
     "output_type": "execute_result"
    }
   ],
   "source": [
    "print(data.shape)\n",
    "data.head()"
   ]
  },
  {
   "cell_type": "code",
   "execution_count": 100,
   "metadata": {},
   "outputs": [
    {
     "data": {
      "text/plain": [
       "(6314, 13)"
      ]
     },
     "execution_count": 100,
     "metadata": {},
     "output_type": "execute_result"
    }
   ],
   "source": [
    "data = data[data['admit'] > 0] #storing only the rows that has got admission\n",
    "data.shape"
   ]
  },
  {
   "cell_type": "code",
   "execution_count": 101,
   "metadata": {},
   "outputs": [
    {
     "data": {
      "text/plain": [
       "(6314, 12)"
      ]
     },
     "execution_count": 101,
     "metadata": {},
     "output_type": "execute_result"
    }
   ],
   "source": [
    "data = data.drop('admit',1)\n",
    "data.shape"
   ]
  },
  {
   "cell_type": "code",
   "execution_count": 102,
   "metadata": {},
   "outputs": [
    {
     "data": {
      "text/plain": [
       "10"
      ]
     },
     "execution_count": 102,
     "metadata": {},
     "output_type": "execute_result"
    }
   ],
   "source": [
    "university_list = list(set(data['univName'].tolist()))\n",
    "university_list\n",
    "len(university_list)"
   ]
  },
  {
   "cell_type": "code",
   "execution_count": 103,
   "metadata": {},
   "outputs": [],
   "source": [
    "for i in range(len(university_list)):\n",
    "    if(len(data[data['univName'] == university_list[i]]) < 100):\n",
    "        data = data[data['univName'] != university_list[i]]"
   ]
  },
  {
   "cell_type": "code",
   "execution_count": 104,
   "metadata": {},
   "outputs": [
    {
     "name": "stdout",
     "output_type": "stream",
     "text": [
      "323\n"
     ]
    }
   ],
   "source": [
    "quantscore=list(set(data['greQ'].tolist()))\n",
    "print(len(quantscore))"
   ]
  },
  {
   "cell_type": "code",
   "execution_count": 105,
   "metadata": {},
   "outputs": [],
   "source": [
    "data = data.dropna()"
   ]
  },
  {
   "cell_type": "code",
   "execution_count": 106,
   "metadata": {},
   "outputs": [
    {
     "name": "stdout",
     "output_type": "stream",
     "text": [
      "(5271, 12)\n",
      "(5146, 12)\n"
     ]
    },
    {
     "data": {
      "text/html": [
       "<div>\n",
       "<style scoped>\n",
       "    .dataframe tbody tr th:only-of-type {\n",
       "        vertical-align: middle;\n",
       "    }\n",
       "\n",
       "    .dataframe tbody tr th {\n",
       "        vertical-align: top;\n",
       "    }\n",
       "\n",
       "    .dataframe thead th {\n",
       "        text-align: right;\n",
       "    }\n",
       "</style>\n",
       "<table border=\"1\" class=\"dataframe\">\n",
       "  <thead>\n",
       "    <tr style=\"text-align: right;\">\n",
       "      <th></th>\n",
       "      <th>major</th>\n",
       "      <th>researchExp</th>\n",
       "      <th>industryExp</th>\n",
       "      <th>toeflScore</th>\n",
       "      <th>internExp</th>\n",
       "      <th>greV</th>\n",
       "      <th>greQ</th>\n",
       "      <th>greA</th>\n",
       "      <th>ugCollege</th>\n",
       "      <th>cgpa</th>\n",
       "      <th>cgpaScale</th>\n",
       "      <th>univName</th>\n",
       "    </tr>\n",
       "  </thead>\n",
       "  <tbody>\n",
       "    <tr>\n",
       "      <th>0</th>\n",
       "      <td>Systems and Control</td>\n",
       "      <td>0</td>\n",
       "      <td>18</td>\n",
       "      <td>112.0</td>\n",
       "      <td>5.0</td>\n",
       "      <td>160.0</td>\n",
       "      <td>167.0</td>\n",
       "      <td>4.5</td>\n",
       "      <td>Dharamsinh Desai University</td>\n",
       "      <td>8.50</td>\n",
       "      <td>10</td>\n",
       "      <td>Worcester Polytechnic Institute</td>\n",
       "    </tr>\n",
       "    <tr>\n",
       "      <th>2</th>\n",
       "      <td>(MIS / MSIM / MSIS / MSIT)</td>\n",
       "      <td>0</td>\n",
       "      <td>66</td>\n",
       "      <td>94.0</td>\n",
       "      <td>0.0</td>\n",
       "      <td>146.0</td>\n",
       "      <td>157.0</td>\n",
       "      <td>3.0</td>\n",
       "      <td>IET DAVV</td>\n",
       "      <td>78.28</td>\n",
       "      <td>100</td>\n",
       "      <td>Worcester Polytechnic Institute</td>\n",
       "    </tr>\n",
       "    <tr>\n",
       "      <th>4</th>\n",
       "      <td>MIS</td>\n",
       "      <td>0</td>\n",
       "      <td>0</td>\n",
       "      <td>81.0</td>\n",
       "      <td>0.0</td>\n",
       "      <td>420.0</td>\n",
       "      <td>770.0</td>\n",
       "      <td>2.5</td>\n",
       "      <td>Pune University</td>\n",
       "      <td>57.00</td>\n",
       "      <td>100</td>\n",
       "      <td>Worcester Polytechnic Institute</td>\n",
       "    </tr>\n",
       "    <tr>\n",
       "      <th>6</th>\n",
       "      <td>MIS</td>\n",
       "      <td>0</td>\n",
       "      <td>0</td>\n",
       "      <td>104.0</td>\n",
       "      <td>0.0</td>\n",
       "      <td>150.0</td>\n",
       "      <td>161.0</td>\n",
       "      <td>4.5</td>\n",
       "      <td>University of Mumbai</td>\n",
       "      <td>62.20</td>\n",
       "      <td>100</td>\n",
       "      <td>Worcester Polytechnic Institute</td>\n",
       "    </tr>\n",
       "    <tr>\n",
       "      <th>7</th>\n",
       "      <td>MIS-management related courses</td>\n",
       "      <td>0</td>\n",
       "      <td>0</td>\n",
       "      <td>95.0</td>\n",
       "      <td>0.0</td>\n",
       "      <td>147.0</td>\n",
       "      <td>156.0</td>\n",
       "      <td>3.0</td>\n",
       "      <td>MU</td>\n",
       "      <td>52.00</td>\n",
       "      <td>100</td>\n",
       "      <td>Worcester Polytechnic Institute</td>\n",
       "    </tr>\n",
       "  </tbody>\n",
       "</table>\n",
       "</div>"
      ],
      "text/plain": [
       "                            major  researchExp  industryExp  toeflScore  \\\n",
       "0             Systems and Control            0           18       112.0   \n",
       "2      (MIS / MSIM / MSIS / MSIT)            0           66        94.0   \n",
       "4                             MIS            0            0        81.0   \n",
       "6                             MIS            0            0       104.0   \n",
       "7  MIS-management related courses            0            0        95.0   \n",
       "\n",
       "   internExp   greV   greQ  greA                    ugCollege   cgpa  \\\n",
       "0        5.0  160.0  167.0   4.5  Dharamsinh Desai University   8.50   \n",
       "2        0.0  146.0  157.0   3.0                     IET DAVV  78.28   \n",
       "4        0.0  420.0  770.0   2.5              Pune University  57.00   \n",
       "6        0.0  150.0  161.0   4.5         University of Mumbai  62.20   \n",
       "7        0.0  147.0  156.0   3.0                           MU  52.00   \n",
       "\n",
       "   cgpaScale                         univName  \n",
       "0         10  Worcester Polytechnic Institute  \n",
       "2        100  Worcester Polytechnic Institute  \n",
       "4        100  Worcester Polytechnic Institute  \n",
       "6        100  Worcester Polytechnic Institute  \n",
       "7        100  Worcester Polytechnic Institute  "
      ]
     },
     "execution_count": 106,
     "metadata": {},
     "output_type": "execute_result"
    }
   ],
   "source": [
    "print(data.shape)\n",
    "data.head()\n",
    "data = data[data['toeflScore'] <= 120] \n",
    "print(data.shape)\n",
    "data.head()"
   ]
  },
  {
   "cell_type": "code",
   "execution_count": 107,
   "metadata": {},
   "outputs": [],
   "source": [
    "quantitative_table = {\n",
    "    \"800\":\"170\",\n",
    "    \"780\":\"170\",\n",
    "    \"770\":\"170\",\n",
    "    \"740\":\"169\",\n",
    "    \"750\":\"169\",\n",
    "    \"730\":\"168\",\n",
    "    \"710\":\"167\",\n",
    "    \"700\":\"166\",\n",
    "    \"680\":\"165\",\n",
    "    \"690\":\"165\",\n",
    "    \"670\":\"164\",\n",
    "    \"650\":\"163\",\n",
    "    \"640\":\"162\",\n",
    "    \"620\":\"161\",\n",
    "    \"610\":\"160\",\n",
    "    \"590\":\"159\",\n",
    "    \"580\":\"158\",\n",
    "    \"560\":\"157\",\n",
    "    \"550\":\"156\",\n",
    "    \"530\":\"155\",\n",
    "    \"520\":\"154\",\n",
    "    \"500\":\"153\",\n",
    "    \"490\":\"152\",\n",
    "    \"470\":\"151\",\n",
    "    \"450\":\"150\",\n",
    "    \"440\":\"149\",\n",
    "    \"420\":\"148\",\n",
    "    \"410\":\"147\",\n",
    "    \"400\":\"146\",\n",
    "    \"380\":\"145\",\n",
    "    \"370\":\"144\",\n",
    "    \"360\":\"143\",\n",
    "    \"340\":\"142\",\n",
    "    \"330\":\"141\",\n",
    "    \"320\":\"140\",\n",
    "    \"310\":\"139\",\n",
    "    \"300\":\"138\",\n",
    "    \"290\":\"137\",\n",
    "    \"280\":\"135\",\n",
    "    \"270\":\"134\",\n",
    "    \"260\":\"133\",\n",
    "    \"250\":\"132\",\n",
    "    \"240\":\"131\",\n",
    "    \"230\":\"130\"\n",
    "  };\n"
   ]
  },
  {
   "cell_type": "code",
   "execution_count": 108,
   "metadata": {},
   "outputs": [],
   "source": [
    "def convert_quant_score(quant_score):\n",
    "    quant_list = []\n",
    "    quant_score = quant_score.tolist()\n",
    "    for old_quant in quant_score:\n",
    "        x=int(old_quant)\n",
    "        y=str(x)\n",
    "        if (x >= 130 and x<=170):\n",
    "            quant_list.append(x)\n",
    "            continue\n",
    "        try :\n",
    "            \n",
    "             if(x >=230 or x<=800):\n",
    "                quant_list.append(int(quantitative_table[y]))\n",
    "        except:\n",
    "                quant_list.append(130)\n",
    "       \n",
    "            \n",
    "        \n",
    "    return quant_list"
   ]
  },
  {
   "cell_type": "code",
   "execution_count": 109,
   "metadata": {},
   "outputs": [
    {
     "name": "stdout",
     "output_type": "stream",
     "text": [
      "(5146, 12)\n"
     ]
    },
    {
     "data": {
      "text/html": [
       "<div>\n",
       "<style scoped>\n",
       "    .dataframe tbody tr th:only-of-type {\n",
       "        vertical-align: middle;\n",
       "    }\n",
       "\n",
       "    .dataframe tbody tr th {\n",
       "        vertical-align: top;\n",
       "    }\n",
       "\n",
       "    .dataframe thead th {\n",
       "        text-align: right;\n",
       "    }\n",
       "</style>\n",
       "<table border=\"1\" class=\"dataframe\">\n",
       "  <thead>\n",
       "    <tr style=\"text-align: right;\">\n",
       "      <th></th>\n",
       "      <th>major</th>\n",
       "      <th>researchExp</th>\n",
       "      <th>industryExp</th>\n",
       "      <th>toeflScore</th>\n",
       "      <th>internExp</th>\n",
       "      <th>greV</th>\n",
       "      <th>greQ</th>\n",
       "      <th>greA</th>\n",
       "      <th>ugCollege</th>\n",
       "      <th>cgpa</th>\n",
       "      <th>cgpaScale</th>\n",
       "      <th>univName</th>\n",
       "    </tr>\n",
       "  </thead>\n",
       "  <tbody>\n",
       "    <tr>\n",
       "      <th>0</th>\n",
       "      <td>Systems and Control</td>\n",
       "      <td>0</td>\n",
       "      <td>18</td>\n",
       "      <td>112.0</td>\n",
       "      <td>5.0</td>\n",
       "      <td>160.0</td>\n",
       "      <td>167</td>\n",
       "      <td>4.5</td>\n",
       "      <td>Dharamsinh Desai University</td>\n",
       "      <td>8.50</td>\n",
       "      <td>10</td>\n",
       "      <td>Worcester Polytechnic Institute</td>\n",
       "    </tr>\n",
       "    <tr>\n",
       "      <th>2</th>\n",
       "      <td>(MIS / MSIM / MSIS / MSIT)</td>\n",
       "      <td>0</td>\n",
       "      <td>66</td>\n",
       "      <td>94.0</td>\n",
       "      <td>0.0</td>\n",
       "      <td>146.0</td>\n",
       "      <td>157</td>\n",
       "      <td>3.0</td>\n",
       "      <td>IET DAVV</td>\n",
       "      <td>78.28</td>\n",
       "      <td>100</td>\n",
       "      <td>Worcester Polytechnic Institute</td>\n",
       "    </tr>\n",
       "    <tr>\n",
       "      <th>4</th>\n",
       "      <td>MIS</td>\n",
       "      <td>0</td>\n",
       "      <td>0</td>\n",
       "      <td>81.0</td>\n",
       "      <td>0.0</td>\n",
       "      <td>420.0</td>\n",
       "      <td>170</td>\n",
       "      <td>2.5</td>\n",
       "      <td>Pune University</td>\n",
       "      <td>57.00</td>\n",
       "      <td>100</td>\n",
       "      <td>Worcester Polytechnic Institute</td>\n",
       "    </tr>\n",
       "    <tr>\n",
       "      <th>6</th>\n",
       "      <td>MIS</td>\n",
       "      <td>0</td>\n",
       "      <td>0</td>\n",
       "      <td>104.0</td>\n",
       "      <td>0.0</td>\n",
       "      <td>150.0</td>\n",
       "      <td>161</td>\n",
       "      <td>4.5</td>\n",
       "      <td>University of Mumbai</td>\n",
       "      <td>62.20</td>\n",
       "      <td>100</td>\n",
       "      <td>Worcester Polytechnic Institute</td>\n",
       "    </tr>\n",
       "    <tr>\n",
       "      <th>7</th>\n",
       "      <td>MIS-management related courses</td>\n",
       "      <td>0</td>\n",
       "      <td>0</td>\n",
       "      <td>95.0</td>\n",
       "      <td>0.0</td>\n",
       "      <td>147.0</td>\n",
       "      <td>156</td>\n",
       "      <td>3.0</td>\n",
       "      <td>MU</td>\n",
       "      <td>52.00</td>\n",
       "      <td>100</td>\n",
       "      <td>Worcester Polytechnic Institute</td>\n",
       "    </tr>\n",
       "  </tbody>\n",
       "</table>\n",
       "</div>"
      ],
      "text/plain": [
       "                            major  researchExp  industryExp  toeflScore  \\\n",
       "0             Systems and Control            0           18       112.0   \n",
       "2      (MIS / MSIM / MSIS / MSIT)            0           66        94.0   \n",
       "4                             MIS            0            0        81.0   \n",
       "6                             MIS            0            0       104.0   \n",
       "7  MIS-management related courses            0            0        95.0   \n",
       "\n",
       "   internExp   greV  greQ  greA                    ugCollege   cgpa  \\\n",
       "0        5.0  160.0   167   4.5  Dharamsinh Desai University   8.50   \n",
       "2        0.0  146.0   157   3.0                     IET DAVV  78.28   \n",
       "4        0.0  420.0   170   2.5              Pune University  57.00   \n",
       "6        0.0  150.0   161   4.5         University of Mumbai  62.20   \n",
       "7        0.0  147.0   156   3.0                           MU  52.00   \n",
       "\n",
       "   cgpaScale                         univName  \n",
       "0         10  Worcester Polytechnic Institute  \n",
       "2        100  Worcester Polytechnic Institute  \n",
       "4        100  Worcester Polytechnic Institute  \n",
       "6        100  Worcester Polytechnic Institute  \n",
       "7        100  Worcester Polytechnic Institute  "
      ]
     },
     "execution_count": 109,
     "metadata": {},
     "output_type": "execute_result"
    }
   ],
   "source": [
    "data['greQ'] = convert_quant_score(data['greQ'])\n",
    "\n",
    "\n",
    "print(data.shape)\n",
    "data.head()"
   ]
  },
  {
   "cell_type": "code",
   "execution_count": 111,
   "metadata": {},
   "outputs": [],
   "source": [
    "def convert_verbal_score(verbal_score):\n",
    "    verbal_list = []\n",
    "    verbal_score = verbal_score.tolist()\n",
    "    for old_verbal in verbal_score:\n",
    "        x=int(old_verbal)\n",
    "        y=str(x)\n",
    "        if(x >= 130 and x<=170):\n",
    "            verbal_list.append(x)\n",
    "            continue\n",
    "        try:\n",
    "            if(x >=230 and x<=800):\n",
    "                 verbal_list.append(x/4.7)\n",
    "        except:\n",
    "            verbal_list.append(130)\n",
    "    return verbal_list\n",
    "\n"
   ]
  },
  {
   "cell_type": "code",
   "execution_count": 112,
   "metadata": {},
   "outputs": [],
   "source": [
    "data['greV'] = convert_quant_score(data['greV'])"
   ]
  },
  {
   "cell_type": "code",
   "execution_count": 113,
   "metadata": {},
   "outputs": [],
   "source": [
    "def normalize_gpa(data2,cgpa,totalcgpa):\n",
    "    cgpa = data2[cgpa].tolist()\n",
    "    totalcgpa = data2[totalcgpa].tolist()\n",
    "    for i in range(len(cgpa)):\n",
    "        if totalcgpa[i] != 0:\n",
    "            cgpa[i] = cgpa[i] / totalcgpa[i]\n",
    "        else:\n",
    "            cgpa[i] = 0\n",
    "    data2['cgpa'] = cgpa\n",
    "    return data2"
   ]
  },
  {
   "cell_type": "code",
   "execution_count": 114,
   "metadata": {},
   "outputs": [],
   "source": [
    "data = normalize_gpa(data,'cgpa','cgpaScale')\n"
   ]
  },
  {
   "cell_type": "code",
   "execution_count": 115,
   "metadata": {},
   "outputs": [
    {
     "name": "stdout",
     "output_type": "stream",
     "text": [
      "(5146, 12)\n"
     ]
    }
   ],
   "source": [
    "data.head()\n",
    "print(data.shape)"
   ]
  },
  {
   "cell_type": "code",
   "execution_count": 116,
   "metadata": {},
   "outputs": [],
   "source": [
    "data = data.drop('researchExp',1)\n",
    "data= data.drop('industryExp',1)\n",
    "data= data.drop('internExp',1)"
   ]
  },
  {
   "cell_type": "code",
   "execution_count": 117,
   "metadata": {},
   "outputs": [],
   "source": [
    "data = data.drop('ugCollege',1)\n",
    "\n",
    "data = data.drop('major',1)\n"
   ]
  },
  {
   "cell_type": "code",
   "execution_count": 118,
   "metadata": {},
   "outputs": [
    {
     "name": "stdout",
     "output_type": "stream",
     "text": [
      "(5146, 7)\n"
     ]
    }
   ],
   "source": [
    "print(data.shape)\n",
    "\n"
   ]
  },
  {
   "cell_type": "code",
   "execution_count": 119,
   "metadata": {},
   "outputs": [],
   "source": [
    "data.to_csv('processed_data.csv')"
   ]
  },
  {
   "cell_type": "code",
   "execution_count": null,
   "metadata": {},
   "outputs": [],
   "source": []
  },
  {
   "cell_type": "code",
   "execution_count": null,
   "metadata": {},
   "outputs": [],
   "source": []
  },
  {
   "cell_type": "code",
   "execution_count": null,
   "metadata": {},
   "outputs": [],
   "source": []
  }
 ],
 "metadata": {
  "kernelspec": {
   "display_name": "Python 3",
   "language": "python",
   "name": "python3"
  },
  "language_info": {
   "codemirror_mode": {
    "name": "ipython",
    "version": 3
   },
   "file_extension": ".py",
   "mimetype": "text/x-python",
   "name": "python",
   "nbconvert_exporter": "python",
   "pygments_lexer": "ipython3",
   "version": "3.7.0"
  }
 },
 "nbformat": 4,
 "nbformat_minor": 2
}
